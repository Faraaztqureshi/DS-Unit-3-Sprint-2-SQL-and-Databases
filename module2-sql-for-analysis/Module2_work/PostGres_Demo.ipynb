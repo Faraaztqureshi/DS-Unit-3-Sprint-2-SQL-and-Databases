{
 "cells": [
  {
   "cell_type": "code",
   "execution_count": 1,
   "metadata": {},
   "outputs": [
    {
     "name": "stdout",
     "output_type": "stream",
     "text": [
      "Requirement already satisfied: psycopg2-binary in /opt/anaconda3/lib/python3.7/site-packages (2.8.4)\n",
      "Note: you may need to restart the kernel to use updated packages.\n"
     ]
    }
   ],
   "source": [
    "pip install psycopg2-binary"
   ]
  },
  {
   "cell_type": "code",
   "execution_count": 1,
   "metadata": {},
   "outputs": [],
   "source": [
    "import psycopg2"
   ]
  },
  {
   "cell_type": "code",
   "execution_count": 2,
   "metadata": {},
   "outputs": [
    {
     "data": {
      "text/plain": [
       "['BINARY',\n",
       " 'Binary',\n",
       " 'DATETIME',\n",
       " 'DataError',\n",
       " 'DatabaseError',\n",
       " 'Date',\n",
       " 'DateFromTicks',\n",
       " 'Error',\n",
       " 'IntegrityError',\n",
       " 'InterfaceError',\n",
       " 'InternalError',\n",
       " 'NUMBER',\n",
       " 'NotSupportedError',\n",
       " 'OperationalError',\n",
       " 'ProgrammingError',\n",
       " 'ROWID',\n",
       " 'STRING',\n",
       " 'Time',\n",
       " 'TimeFromTicks',\n",
       " 'Timestamp',\n",
       " 'TimestampFromTicks',\n",
       " 'Warning',\n",
       " '__builtins__',\n",
       " '__cached__',\n",
       " '__doc__',\n",
       " '__file__',\n",
       " '__libpq_version__',\n",
       " '__loader__',\n",
       " '__name__',\n",
       " '__package__',\n",
       " '__path__',\n",
       " '__spec__',\n",
       " '__version__',\n",
       " '_connect',\n",
       " '_ext',\n",
       " '_json',\n",
       " '_psycopg',\n",
       " '_range',\n",
       " 'apilevel',\n",
       " 'compat',\n",
       " 'connect',\n",
       " 'errors',\n",
       " 'extensions',\n",
       " 'paramstyle',\n",
       " 'threadsafety',\n",
       " 'tz']"
      ]
     },
     "execution_count": 2,
     "metadata": {},
     "output_type": "execute_result"
    }
   ],
   "source": [
    "dir(psycopg2)"
   ]
  },
  {
   "cell_type": "code",
   "execution_count": 3,
   "metadata": {},
   "outputs": [],
   "source": [
    "## Set up steps\n",
    "\n",
    "dbname = 'qdesulho'\n",
    "user = 'qdesulho'\n",
    "password = 'JGeDV6muogRvBZvrAfYst69Yeb9mQlBg'\n",
    "host = 'rajje.db.elephantsql.com'"
   ]
  },
  {
   "cell_type": "code",
   "execution_count": 13,
   "metadata": {},
   "outputs": [],
   "source": [
    "pg_conn = psycopg2.connect(dbname=dbname, user=user, \n",
    "                           password=password, host = host)"
   ]
  },
  {
   "cell_type": "code",
   "execution_count": 14,
   "metadata": {},
   "outputs": [
    {
     "data": {
      "text/plain": [
       "<connection object at 0x106dd1b50; dsn: 'user=qdesulho password=xxx dbname=qdesulho host=rajje.db.elephantsql.com', closed: 0>"
      ]
     },
     "execution_count": 14,
     "metadata": {},
     "output_type": "execute_result"
    }
   ],
   "source": [
    "## check to see if we have a connection object\n",
    "pg_conn"
   ]
  },
  {
   "cell_type": "code",
   "execution_count": 15,
   "metadata": {},
   "outputs": [],
   "source": [
    "## make a cursor\n",
    "pg_curs = pg_conn.cursor()"
   ]
  },
  {
   "cell_type": "code",
   "execution_count": 16,
   "metadata": {},
   "outputs": [],
   "source": [
    "## structure of the table you want to create\n",
    "create_table_statement = \"\"\"\n",
    "CREATE TABLE test_table (\n",
    "  id        SERIAL PRIMARY KEY,\n",
    "  name  varchar(40) NOT NULL,\n",
    "  data    JSONB\n",
    ");\n",
    "\"\"\"\n",
    "\n",
    "## code to create the table you wanted\n",
    "pg_curs.execute(create_table_statement)\n",
    "\n",
    "## commiting the changes\n",
    "pg_conn.commit()"
   ]
  },
  {
   "cell_type": "code",
   "execution_count": 17,
   "metadata": {},
   "outputs": [],
   "source": [
    "## data for the table you created\n",
    "\n",
    "insert_statement = \"\"\"\n",
    "INSERT INTO test_table (name, data) VALUES\n",
    "(\n",
    "  'A row name',\n",
    "  null\n",
    "),\n",
    "(\n",
    "  'Another row, with JSON',\n",
    "  '{ \"a\": 1, \"b\": [\"dog\", \"cat\", 42], \"c\": true }'::JSONB\n",
    ");\n",
    "\"\"\"\n",
    "\n",
    "## puts the data into the table\n",
    "pg_curs.execute(insert_statement)\n",
    "\n",
    "## commits the changes you made\n",
    "pg_conn.commit()\n"
   ]
  },
  {
   "cell_type": "code",
   "execution_count": 18,
   "metadata": {},
   "outputs": [
    {
     "data": {
      "text/plain": [
       "[(1, 'A row name', None),\n",
       " (2, 'Another row, with JSON', {'a': 1, 'b': ['dog', 'cat', 42], 'c': True})]"
      ]
     },
     "execution_count": 18,
     "metadata": {},
     "output_type": "execute_result"
    }
   ],
   "source": [
    "## SQL search\n",
    "query = 'SELECT * FROM \"public\".\"test_table\" LIMIT 100'\n",
    "\n",
    "## do the search\n",
    "pg_curs.execute(query)\n",
    "\n",
    "##s show the results\n",
    "pg_curs.fetchall()"
   ]
  },
  {
   "cell_type": "markdown",
   "metadata": {},
   "source": [
    "## RPG Data"
   ]
  },
  {
   "cell_type": "code",
   "execution_count": 22,
   "metadata": {},
   "outputs": [],
   "source": [
    "import sqlite3"
   ]
  },
  {
   "cell_type": "code",
   "execution_count": 26,
   "metadata": {},
   "outputs": [],
   "source": [
    "sl_conn = sqlite3.connect('rpg_db.sqlite3')"
   ]
  },
  {
   "cell_type": "code",
   "execution_count": 27,
   "metadata": {},
   "outputs": [],
   "source": [
    "sl_curs = s1_conn.cursor()"
   ]
  },
  {
   "cell_type": "code",
   "execution_count": 28,
   "metadata": {},
   "outputs": [
    {
     "data": {
      "text/plain": [
       "[(302,)]"
      ]
     },
     "execution_count": 28,
     "metadata": {},
     "output_type": "execute_result"
    }
   ],
   "source": [
    "row_count = 'SELECT COUNT(*) FROM charactercreator_character'\n",
    "sl_curs.execute(row_count).fetchall()"
   ]
  },
  {
   "cell_type": "code",
   "execution_count": 31,
   "metadata": {},
   "outputs": [],
   "source": [
    "## we want to move characters from sqlite3 to postgres\n",
    "## select the characters\n",
    "get_characters = '''SELECT * FROM charactercreator_character'''\n",
    "\n",
    "## execute search and save results\n",
    "characters = sl_curs.execute(get_characters).fetchall()"
   ]
  },
  {
   "cell_type": "code",
   "execution_count": 33,
   "metadata": {},
   "outputs": [
    {
     "data": {
      "text/plain": [
       "[(1, 'Aliquid iste optio reiciendi', 0, 0, 10, 1, 1, 1, 1),\n",
       " (2, 'Optio dolorem ex a', 0, 0, 10, 1, 1, 1, 1),\n",
       " (3, 'Minus c', 0, 0, 10, 1, 1, 1, 1),\n",
       " (4, 'Sit ut repr', 0, 0, 10, 1, 1, 1, 1),\n",
       " (5, 'At id recusandae expl', 0, 0, 10, 1, 1, 1, 1)]"
      ]
     },
     "execution_count": 33,
     "metadata": {},
     "output_type": "execute_result"
    }
   ],
   "source": [
    "## examine first 5 results\n",
    "characters[:5]"
   ]
  },
  {
   "cell_type": "code",
   "execution_count": 34,
   "metadata": {},
   "outputs": [
    {
     "data": {
      "text/plain": [
       "302"
      ]
     },
     "execution_count": 34,
     "metadata": {},
     "output_type": "execute_result"
    }
   ],
   "source": [
    "## count how many results\n",
    "len(characters)"
   ]
  },
  {
   "cell_type": "code",
   "execution_count": 35,
   "metadata": {},
   "outputs": [
    {
     "data": {
      "text/plain": [
       "[(0, 'character_id', 'integer', 1, None, 1),\n",
       " (1, 'name', 'varchar(30)', 1, None, 0),\n",
       " (2, 'level', 'integer', 1, None, 0),\n",
       " (3, 'exp', 'integer', 1, None, 0),\n",
       " (4, 'hp', 'integer', 1, None, 0),\n",
       " (5, 'strength', 'integer', 1, None, 0),\n",
       " (6, 'intelligence', 'integer', 1, None, 0),\n",
       " (7, 'dexterity', 'integer', 1, None, 0),\n",
       " (8, 'wisdom', 'integer', 1, None, 0)]"
      ]
     },
     "execution_count": 35,
     "metadata": {},
     "output_type": "execute_result"
    }
   ],
   "source": [
    "## since we are moving from sqlite3 to postgreSQL we need to see how data was structured\n",
    "sl_curs.execute('PRAGMA table_info(charactercreator_character);').fetchall()"
   ]
  },
  {
   "cell_type": "code",
   "execution_count": 36,
   "metadata": {},
   "outputs": [],
   "source": [
    "## we now need to create a table to put this information into\n",
    "create_character_table = '''\n",
    "CREATE TABLE charactercreator_character (\n",
    "    character_id SERIAL PRIMARY KEY,\n",
    "    name VARCHAR(30),\n",
    "    level INT,\n",
    "    exp INT,\n",
    "    hp INT,\n",
    "    strength INT,\n",
    "    intelligence INT,\n",
    "    dexterity INT,\n",
    "    wisdom INT\n",
    ");\n",
    "'''"
   ]
  },
  {
   "cell_type": "code",
   "execution_count": 38,
   "metadata": {},
   "outputs": [],
   "source": [
    "## I got an error so I re-established the connection\n",
    "pg_conn = psycopg2.connect(dbname=dbname, user=user, \n",
    "                           password=password, host = host)\n",
    "## make a cursor\n",
    "pg_curs = pg_conn.cursor()"
   ]
  },
  {
   "cell_type": "code",
   "execution_count": 39,
   "metadata": {},
   "outputs": [],
   "source": [
    "## create the table using the pg_cursor\n",
    "pg_curs.execute(create_character_table)\n",
    "\n",
    "## save changes\n",
    "pg_conn.commit()"
   ]
  },
  {
   "cell_type": "code",
   "execution_count": 40,
   "metadata": {},
   "outputs": [
    {
     "data": {
      "text/plain": [
       "[('public', 'test_table', 'qdesulho', None, True, False, False, False),\n",
       " ('public',\n",
       "  'charactercreator_character',\n",
       "  'qdesulho',\n",
       "  None,\n",
       "  True,\n",
       "  False,\n",
       "  False,\n",
       "  False)]"
      ]
     },
     "execution_count": 40,
     "metadata": {},
     "output_type": "execute_result"
    }
   ],
   "source": [
    "## look at tables\n",
    "show_tables = \"\"\"\n",
    "SELECT\n",
    "   *\n",
    "FROM\n",
    "   pg_catalog.pg_tables\n",
    "WHERE\n",
    "   schemaname != 'pg_catalog'\n",
    "AND schemaname != 'information_schema';\n",
    "\"\"\"\n",
    "pg_curs.execute(show_tables)\n",
    "pg_curs.fetchall()"
   ]
  },
  {
   "cell_type": "code",
   "execution_count": 46,
   "metadata": {},
   "outputs": [],
   "source": [
    "## in case you make a mistake you can delete all the rows\n",
    "delete_table_rows = '''DELETE FROM charactercreator_character\n",
    "'''\n",
    "pg_curs.execute(delete_table_rows)\n",
    "pg_conn.commit()"
   ]
  },
  {
   "cell_type": "code",
   "execution_count": 47,
   "metadata": {},
   "outputs": [
    {
     "data": {
      "text/plain": [
       "[]"
      ]
     },
     "execution_count": 47,
     "metadata": {},
     "output_type": "execute_result"
    }
   ],
   "source": [
    "## execute and commit deletion of rows\n",
    "pg_curs.execute('SELECT * FROM charactercreator_character')\n",
    "pg_curs.fetchall()"
   ]
  },
  {
   "cell_type": "code",
   "execution_count": 48,
   "metadata": {},
   "outputs": [],
   "source": [
    "for character in characters:\n",
    "    insert_character = '''\n",
    "    INSERT INTO charactercreator_character\n",
    "    (name, level, exp, hp, strength, intelligence, dexterity, wisdom)\n",
    "    VALUES ''' + str(character[1:]) + \";\"\n",
    "    \n",
    "    pg_curs.execute(insert_character)\n",
    "    pg_conn.commit()"
   ]
  },
  {
   "cell_type": "code",
   "execution_count": 50,
   "metadata": {},
   "outputs": [
    {
     "data": {
      "text/plain": [
       "302"
      ]
     },
     "execution_count": 50,
     "metadata": {},
     "output_type": "execute_result"
    }
   ],
   "source": [
    "pg_curs.execute('SELECT * FROM charactercreator_character')\n",
    "len(pg_curs.fetchall())"
   ]
  },
  {
   "cell_type": "markdown",
   "metadata": {},
   "source": [
    "## TITANIC"
   ]
  },
  {
   "cell_type": "markdown",
   "metadata": {},
   "source": [
    "### Create new tables for database"
   ]
  },
  {
   "cell_type": "code",
   "execution_count": 51,
   "metadata": {},
   "outputs": [],
   "source": [
    "## create a table for passengers\n",
    "passengers_table = '''\n",
    "CREATE TABLE passengers (\n",
    "id SERIAL PRIMARY KEY,\n",
    "name TEXT,  \n",
    "sex TEXT, \n",
    "age FLOAT,\n",
    "sibsp INT,\n",
    "parch INT\n",
    ")\n",
    "'''\n",
    "pg_curs.execute(passengers_table)\n",
    "pg_conn.commit()"
   ]
  },
  {
   "cell_type": "code",
   "execution_count": 52,
   "metadata": {},
   "outputs": [],
   "source": [
    "## create a survival table\n",
    "survival_table = '''\n",
    "CREATE TABLE survival (\n",
    "id SERIAL PRIMARY KEY,\n",
    "survived INT\n",
    ")\n",
    "'''\n",
    "pg_curs.execute(survival_table)\n",
    "pg_conn.commit()"
   ]
  },
  {
   "cell_type": "code",
   "execution_count": 54,
   "metadata": {},
   "outputs": [],
   "source": [
    "## create a fare info table\n",
    "fare_info = '''\n",
    "CREATE TABLE fare_info (\n",
    "id SERIAL PRIMARY KEY,\n",
    "pclass INT,\n",
    "ticket TEXT,\n",
    "fare FLOAT,\n",
    "cabin TEXT,\n",
    "embarked TEXT\n",
    ")\n",
    "'''\n",
    "pg_curs.execute(fare_info)\n",
    "pg_conn.commit()"
   ]
  },
  {
   "cell_type": "markdown",
   "metadata": {},
   "source": [
    "### Move data from CSV to Database"
   ]
  },
  {
   "cell_type": "code",
   "execution_count": 59,
   "metadata": {},
   "outputs": [],
   "source": [
    "## re-establish connection\n",
    "pg_conn = psycopg2.connect(dbname=dbname, user=user, \n",
    "                           password=password, host = host)\n",
    "## make a cursor\n",
    "pg_curs = pg_conn.cursor()"
   ]
  },
  {
   "cell_type": "code",
   "execution_count": 60,
   "metadata": {},
   "outputs": [],
   "source": [
    "with open('passengers.csv', 'r') as row:\n",
    "    next(row)# Skip the header row.\n",
    "    pg_curs.copy_from(row, 'passengers', sep=',')\n",
    "    \n",
    "with open('survival.csv', 'r') as row:\n",
    "    next(row) \n",
    "    pg_curs.copy_from(row, 'survival', sep=',')\n",
    "\n",
    "with open('trip_info.csv', 'r') as row:\n",
    "    next(row)\n",
    "    pg_curs.copy_from(row, 'fare_info', sep=',')\n",
    "    \n",
    "pg_conn.commit()    "
   ]
  },
  {
   "cell_type": "markdown",
   "metadata": {},
   "source": [
    "## Run a query to show that it works"
   ]
  },
  {
   "cell_type": "code",
   "execution_count": 64,
   "metadata": {},
   "outputs": [
    {
     "data": {
      "text/plain": [
       "[(1, 3, 'A/5 21171', 7.25, '?', 'S'),\n",
       " (2, 1, 'PC 17599', 71.2833, 'C85', 'C'),\n",
       " (3, 3, 'STON/O2. 3101282', 7.925, '?', 'S'),\n",
       " (4, 1, '113803', 53.1, 'C123', 'S'),\n",
       " (5, 3, '373450', 8.05, '?', 'S'),\n",
       " (6, 3, '330877', 8.4583, '?', 'Q'),\n",
       " (7, 1, '17463', 51.8625, 'E46', 'S'),\n",
       " (8, 3, '349909', 21.075, '?', 'S'),\n",
       " (9, 3, '347742', 11.1333, '?', 'S'),\n",
       " (10, 2, '237736', 30.0708, '?', 'C'),\n",
       " (11, 3, 'PP 9549', 16.7, 'G6', 'S'),\n",
       " (12, 1, '113783', 26.55, 'C103', 'S'),\n",
       " (13, 3, 'A/5. 2151', 8.05, '?', 'S'),\n",
       " (14, 3, '347082', 31.275, '?', 'S'),\n",
       " (15, 3, '350406', 7.8542, '?', 'S'),\n",
       " (16, 2, '248706', 16.0, '?', 'S'),\n",
       " (17, 3, '382652', 29.125, '?', 'Q'),\n",
       " (18, 2, '244373', 13.0, '?', 'S'),\n",
       " (19, 3, '345763', 18.0, '?', 'S'),\n",
       " (20, 3, '2649', 7.225, '?', 'C'),\n",
       " (21, 2, '239865', 26.0, '?', 'S'),\n",
       " (22, 2, '248698', 13.0, 'D56', 'S'),\n",
       " (23, 3, '330923', 8.0292, '?', 'Q'),\n",
       " (24, 1, '113788', 35.5, 'A6', 'S'),\n",
       " (25, 3, '349909', 21.075, '?', 'S'),\n",
       " (26, 3, '347077', 31.3875, '?', 'S'),\n",
       " (27, 3, '2631', 7.225, '?', 'C'),\n",
       " (28, 1, '19950', 263.0, 'C23 C25 C27', 'S'),\n",
       " (29, 3, '330959', 7.8792, '?', 'Q'),\n",
       " (30, 3, '349216', 7.8958, '?', 'S'),\n",
       " (31, 1, 'PC 17601', 27.7208, '?', 'C'),\n",
       " (32, 1, 'PC 17569', 146.5208, 'B78', 'C'),\n",
       " (33, 3, '335677', 7.75, '?', 'Q'),\n",
       " (34, 2, 'C.A. 24579', 10.5, '?', 'S'),\n",
       " (35, 1, 'PC 17604', 82.1708, '?', 'C'),\n",
       " (36, 1, '113789', 52.0, '?', 'S'),\n",
       " (37, 3, '2677', 7.2292, '?', 'C'),\n",
       " (38, 3, 'A./5. 2152', 8.05, '?', 'S'),\n",
       " (39, 3, '345764', 18.0, '?', 'S'),\n",
       " (40, 3, '2651', 11.2417, '?', 'C'),\n",
       " (41, 3, '7546', 9.475, '?', 'S'),\n",
       " (42, 2, '11668', 21.0, '?', 'S'),\n",
       " (43, 3, '349253', 7.8958, '?', 'C'),\n",
       " (44, 2, 'SC/Paris 2123', 41.5792, '?', 'C'),\n",
       " (45, 3, '330958', 7.8792, '?', 'Q'),\n",
       " (46, 3, 'S.C./A.4. 23567', 8.05, '?', 'S'),\n",
       " (47, 3, '370371', 15.5, '?', 'Q'),\n",
       " (48, 3, '14311', 7.75, '?', 'Q'),\n",
       " (49, 3, '2662', 21.6792, '?', 'C'),\n",
       " (50, 3, '349237', 17.8, '?', 'S'),\n",
       " (51, 3, '3101295', 39.6875, '?', 'S'),\n",
       " (52, 3, 'A/4. 39886', 7.8, '?', 'S'),\n",
       " (53, 1, 'PC 17572', 76.7292, 'D33', 'C'),\n",
       " (54, 2, '2926', 26.0, '?', 'S'),\n",
       " (55, 1, '113509', 61.9792, 'B30', 'C'),\n",
       " (56, 1, '19947', 35.5, 'C52', 'S'),\n",
       " (57, 2, 'C.A. 31026', 10.5, '?', 'S'),\n",
       " (58, 3, '2697', 7.2292, '?', 'C'),\n",
       " (59, 2, 'C.A. 34651', 27.75, '?', 'S'),\n",
       " (60, 3, 'CA 2144', 46.9, '?', 'S'),\n",
       " (61, 3, '2669', 7.2292, '?', 'C'),\n",
       " (62, 1, '113572', 80.0, 'B28', 'S'),\n",
       " (63, 1, '36973', 83.475, 'C83', 'S'),\n",
       " (64, 3, '347088', 27.9, '?', 'S'),\n",
       " (65, 1, 'PC 17605', 27.7208, '?', 'C'),\n",
       " (66, 3, '2661', 15.2458, '?', 'C'),\n",
       " (67, 2, 'C.A. 29395', 10.5, 'F33', 'S'),\n",
       " (68, 3, 'S.P. 3464', 8.1583, '?', 'S'),\n",
       " (69, 3, '3101281', 7.925, '?', 'S'),\n",
       " (70, 3, '315151', 8.6625, '?', 'S'),\n",
       " (71, 2, 'C.A. 33111', 10.5, '?', 'S'),\n",
       " (72, 3, 'CA 2144', 46.9, '?', 'S'),\n",
       " (73, 2, 'S.O.C. 14879', 73.5, '?', 'S'),\n",
       " (74, 3, '2680', 14.4542, '?', 'C'),\n",
       " (75, 3, '1601', 56.4958, '?', 'S'),\n",
       " (76, 3, '348123', 7.65, 'F G73', 'S'),\n",
       " (77, 3, '349208', 7.8958, '?', 'S'),\n",
       " (78, 3, '374746', 8.05, '?', 'S'),\n",
       " (79, 2, '248738', 29.0, '?', 'S'),\n",
       " (80, 3, '364516', 12.475, '?', 'S'),\n",
       " (81, 3, '345767', 9.0, '?', 'S'),\n",
       " (82, 3, '345779', 9.5, '?', 'S'),\n",
       " (83, 3, '330932', 7.7875, '?', 'Q'),\n",
       " (84, 1, '113059', 47.1, '?', 'S'),\n",
       " (85, 2, 'SO/C 14885', 10.5, '?', 'S'),\n",
       " (86, 3, '3101278', 15.85, '?', 'S'),\n",
       " (87, 3, 'W./C. 6608', 34.375, '?', 'S'),\n",
       " (88, 3, 'SOTON/OQ 392086', 8.05, '?', 'S'),\n",
       " (89, 1, '19950', 263.0, 'C23 C25 C27', 'S'),\n",
       " (90, 3, '343275', 8.05, '?', 'S'),\n",
       " (91, 3, '343276', 8.05, '?', 'S'),\n",
       " (92, 3, '347466', 7.8542, '?', 'S'),\n",
       " (93, 1, 'W.E.P. 5734', 61.175, 'E31', 'S'),\n",
       " (94, 3, 'C.A. 2315', 20.575, '?', 'S'),\n",
       " (95, 3, '364500', 7.25, '?', 'S'),\n",
       " (96, 3, '374910', 8.05, '?', 'S'),\n",
       " (97, 1, 'PC 17754', 34.6542, 'A5', 'C'),\n",
       " (98, 1, 'PC 17759', 63.3583, 'D10 D12', 'C'),\n",
       " (99, 2, '231919', 23.0, '?', 'S'),\n",
       " (100, 2, '244367', 26.0, '?', 'S')]"
      ]
     },
     "execution_count": 64,
     "metadata": {},
     "output_type": "execute_result"
    }
   ],
   "source": [
    "query = '''\n",
    "SELECT * FROM \"public\".\"fare_info\" LIMIT 100\n",
    "'''\n",
    "pg_curs.execute(query)\n",
    "pg_curs.fetchall()"
   ]
  },
  {
   "cell_type": "code",
   "execution_count": null,
   "metadata": {},
   "outputs": [],
   "source": []
  }
 ],
 "metadata": {
  "kernelspec": {
   "display_name": "Python 3",
   "language": "python",
   "name": "python3"
  },
  "language_info": {
   "codemirror_mode": {
    "name": "ipython",
    "version": 3
   },
   "file_extension": ".py",
   "mimetype": "text/x-python",
   "name": "python",
   "nbconvert_exporter": "python",
   "pygments_lexer": "ipython3",
   "version": "3.7.4"
  }
 },
 "nbformat": 4,
 "nbformat_minor": 2
}
