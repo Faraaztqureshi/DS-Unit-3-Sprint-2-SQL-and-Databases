{
 "cells": [
  {
   "cell_type": "code",
   "execution_count": 1,
   "metadata": {},
   "outputs": [],
   "source": [
    "import sqlite3\n",
    "\n",
    "# make a connection\n",
    "conn = sqlite3.connect('/Users/faraazqureshi/repos/DS-Unit-3-Sprint-2-SQL-and-Databases/module1-introduction-to-sql/rpg_db.sqlite3')\n"
   ]
  },
  {
   "cell_type": "code",
   "execution_count": 2,
   "metadata": {},
   "outputs": [],
   "source": [
    "# make a cursor\n",
    "curs = conn.cursor()"
   ]
  },
  {
   "cell_type": "markdown",
   "metadata": {},
   "source": [
    "## Total Characters"
   ]
  },
  {
   "cell_type": "code",
   "execution_count": 3,
   "metadata": {},
   "outputs": [
    {
     "name": "stdout",
     "output_type": "stream",
     "text": [
      "[(302,)]\n"
     ]
    }
   ],
   "source": [
    "# determine how many total characters\n",
    "curs.execute('SELECT count(*) FROM charactercreator_character')\n",
    "print(curs.fetchall())"
   ]
  },
  {
   "cell_type": "markdown",
   "metadata": {},
   "source": [
    "## Total characters of each subclass"
   ]
  },
  {
   "cell_type": "code",
   "execution_count": 6,
   "metadata": {},
   "outputs": [
    {
     "name": "stdout",
     "output_type": "stream",
     "text": [
      "Cleric count: [(75,)]\n"
     ]
    }
   ],
   "source": [
    "# how many characters of each subclass\n",
    "curs.execute('SELECT count(*) FROM charactercreator_cleric')\n",
    "print(\"Cleric count: \" + str(curs.fetchall()))"
   ]
  },
  {
   "cell_type": "code",
   "execution_count": 8,
   "metadata": {},
   "outputs": [
    {
     "name": "stdout",
     "output_type": "stream",
     "text": [
      "Fighter count: [(68,)]\n"
     ]
    }
   ],
   "source": [
    "curs.execute('SELECT count(*) FROM charactercreator_fighter')\n",
    "print(\"Fighter count: \" + str(curs.fetchall()))"
   ]
  },
  {
   "cell_type": "code",
   "execution_count": 9,
   "metadata": {},
   "outputs": [
    {
     "name": "stdout",
     "output_type": "stream",
     "text": [
      "Mage count: [(108,)]\n"
     ]
    }
   ],
   "source": [
    "curs.execute('SELECT count(*) FROM charactercreator_mage')\n",
    "print(\"Mage count: \" + str(curs.fetchall()))"
   ]
  },
  {
   "cell_type": "code",
   "execution_count": 10,
   "metadata": {},
   "outputs": [
    {
     "name": "stdout",
     "output_type": "stream",
     "text": [
      "Necromancer count: [(11,)]\n"
     ]
    }
   ],
   "source": [
    "curs.execute('SELECT count(*) FROM charactercreator_necromancer')\n",
    "print(\"Necromancer count: \" + str(curs.fetchall()))"
   ]
  },
  {
   "cell_type": "code",
   "execution_count": 11,
   "metadata": {},
   "outputs": [
    {
     "name": "stdout",
     "output_type": "stream",
     "text": [
      "Thief count: [(51,)]\n"
     ]
    }
   ],
   "source": [
    "curs.execute('SELECT count(*) FROM charactercreator_thief')\n",
    "print(\"Thief count: \" + str(curs.fetchall()))"
   ]
  },
  {
   "cell_type": "markdown",
   "metadata": {},
   "source": [
    "## How many total items"
   ]
  },
  {
   "cell_type": "code",
   "execution_count": 12,
   "metadata": {},
   "outputs": [
    {
     "name": "stdout",
     "output_type": "stream",
     "text": [
      "Total Items: [(174,)]\n"
     ]
    }
   ],
   "source": [
    "curs.execute('SELECT count(*) FROM armory_item')\n",
    "print(\"Total Items: \" + str(curs.fetchall()))"
   ]
  },
  {
   "cell_type": "markdown",
   "metadata": {},
   "source": [
    "## Of the total items how many are weapons"
   ]
  },
  {
   "cell_type": "code",
   "execution_count": 22,
   "metadata": {},
   "outputs": [
    {
     "data": {
      "text/plain": [
       "[(174,)]"
      ]
     },
     "execution_count": 22,
     "metadata": {},
     "output_type": "execute_result"
    }
   ],
   "source": [
    "# total number of items\n",
    "curs.execute('SELECT count(*) FROM armory_item')\n",
    "curs.fetchall()"
   ]
  },
  {
   "cell_type": "code",
   "execution_count": 19,
   "metadata": {},
   "outputs": [
    {
     "name": "stdout",
     "output_type": "stream",
     "text": [
      "Number of items that are weapons: [(37,)]\n"
     ]
    }
   ],
   "source": [
    "# total number of items that are weapons method 1\n",
    "curs.execute('SELECT count(*) FROM armory_item, armory_weapon WHERE armory_item.item_id = armory_weapon.item_ptr_id')\n",
    "print(\"Number of items that are weapons: \" + str(curs.fetchall()))"
   ]
  },
  {
   "cell_type": "code",
   "execution_count": 17,
   "metadata": {},
   "outputs": [
    {
     "name": "stdout",
     "output_type": "stream",
     "text": [
      "Number of items that are weapons: [(37,)]\n"
     ]
    }
   ],
   "source": [
    "# total nmber of items that are weapons method 2\n",
    "curs.execute('SELECT count(*) FROM armory_item JOIN armory_weapon ON armory_item.item_id = armory_weapon.item_ptr_id')\n",
    "print(\"Number of items that are weapons: \" + str(curs.fetchall()))"
   ]
  },
  {
   "cell_type": "markdown",
   "metadata": {},
   "source": [
    "## How many items does each character have"
   ]
  },
  {
   "cell_type": "code",
   "execution_count": 24,
   "metadata": {},
   "outputs": [
    {
     "data": {
      "text/plain": [
       "[(302, 'Aliquam n', 5),\n",
       " (294, 'Duci', 5),\n",
       " (290, 'Provident sed soluta, sed si', 5),\n",
       " (289, 'Rem minima', 5),\n",
       " (287, 'Unde natus ut ipsa cupi', 5),\n",
       " (285, 'Molestiae quaerat maxim', 5),\n",
       " (281, 'Similique aperiam earum expli', 5),\n",
       " (280, 'Asperi', 5),\n",
       " (266, 'Mag', 5),\n",
       " (264, 'Verita', 5),\n",
       " (261, 'Iusto quas voluptatibu', 5),\n",
       " (259, 'Atque aspernatur possi', 5),\n",
       " (251, 'Non qui vo', 5),\n",
       " (247, 'Dolorem quaerat sunt', 5),\n",
       " (245, 'Provident nostrum minima', 5),\n",
       " (238, 'Aliqu', 5),\n",
       " (235, 'Nulla', 5),\n",
       " (233, 'Maiores quos incidunt dolor', 5),\n",
       " (206, 'Dolores aliquid inv', 5),\n",
       " (201, 'Officiis su', 5)]"
      ]
     },
     "execution_count": 24,
     "metadata": {},
     "output_type": "execute_result"
    }
   ],
   "source": [
    "'''SELECT charactercreator_character.character_id, charactercreator_character.name,  count(armory_item.item_id)\n",
    "FROM charactercreator_character, armory_item, charactercreator_character_inventory\n",
    "WHERE charactercreator_character.character_id = charactercreator_character_inventory.character_id\n",
    "AND armory_item.item_id = charactercreator_character_inventory.item_id\n",
    "GROUP BY charactercreator_character.character_id\n",
    "ORDER BY count(armory_item.item_id) DESC\n",
    "LIMIT 20;\n",
    "'''\n",
    "curs.execute('SELECT charactercreator_character.character_id, charactercreator_character.name,  count(armory_item.item_id) FROM charactercreator_character, armory_item, charactercreator_character_inventory WHERE charactercreator_character.character_id = charactercreator_character_inventory.character_id AND armory_item.item_id = charactercreator_character_inventory.item_id GROUP BY charactercreator_character.character_id ORDER BY count(armory_item.item_id) DESC LIMIT 20;')\n",
    "curs.fetchall()"
   ]
  },
  {
   "cell_type": "markdown",
   "metadata": {},
   "source": [
    "## How many weapons does each character have?"
   ]
  },
  {
   "cell_type": "code",
   "execution_count": 25,
   "metadata": {},
   "outputs": [],
   "source": [
    "query = '''\n",
    "SELECT charactercreator_character.character_id, charactercreator_character.name,  count(armory_weapon.item_ptr_id)\n",
    "FROM charactercreator_character, armory_weapon, charactercreator_character_inventory\n",
    "WHERE charactercreator_character.character_id = charactercreator_character_inventory.character_id\n",
    "AND armory_weapon.item_ptr_id = charactercreator_character_inventory.item_id\n",
    "GROUP BY charactercreator_character.character_id\n",
    "ORDER BY count(armory_weapon.item_ptr_id) DESC\n",
    "LIMIT 20;\n",
    "'''"
   ]
  },
  {
   "cell_type": "code",
   "execution_count": 27,
   "metadata": {},
   "outputs": [
    {
     "data": {
      "text/plain": [
       "[(227, 'Dignissimos a', 3),\n",
       " (199, 'Illo en', 3),\n",
       " (142, 'Explicabo recusandae ma', 3),\n",
       " (70, 'Perferendis commodi null', 3),\n",
       " (63, 'Reprehenderit commodi eius', 3),\n",
       " (36, 'Sint quibusdam ob', 3),\n",
       " (27, 'Ab voluptas se', 3),\n",
       " (294, 'Duci', 2),\n",
       " (280, 'Asperi', 2),\n",
       " (261, 'Iusto quas voluptatibu', 2),\n",
       " (256, 'Omni', 2),\n",
       " (250, 'Iste debitis dolorum amet m', 2),\n",
       " (247, 'Dolorem quaerat sunt', 2),\n",
       " (245, 'Provident nostrum minima', 2),\n",
       " (241, 'Reprehenderit li', 2),\n",
       " (238, 'Aliqu', 2),\n",
       " (206, 'Dolores aliquid inv', 2),\n",
       " (194, 'Acc', 2),\n",
       " (192, 'Reiciendis assumenda dolo', 2),\n",
       " (183, 'Architecto repudian', 2)]"
      ]
     },
     "execution_count": 27,
     "metadata": {},
     "output_type": "execute_result"
    }
   ],
   "source": [
    "curs.execute(query)\n",
    "curs.fetchall()"
   ]
  },
  {
   "cell_type": "markdown",
   "metadata": {},
   "source": [
    "## AVG Number of Items"
   ]
  },
  {
   "cell_type": "code",
   "execution_count": 31,
   "metadata": {},
   "outputs": [
    {
     "data": {
      "text/plain": [
       "2.9735099337748343"
      ]
     },
     "execution_count": 31,
     "metadata": {},
     "output_type": "execute_result"
    }
   ],
   "source": [
    "((58 * 5) +(62 * 4) + (64 * 3) + (50* 2) + (68 * 1)) / 302"
   ]
  },
  {
   "cell_type": "code",
   "execution_count": 28,
   "metadata": {},
   "outputs": [
    {
     "data": {
      "text/plain": [
       "234"
      ]
     },
     "execution_count": 28,
     "metadata": {},
     "output_type": "execute_result"
    }
   ],
   "source": [
    "58 + 62 + 64 +50"
   ]
  },
  {
   "cell_type": "code",
   "execution_count": 29,
   "metadata": {},
   "outputs": [
    {
     "data": {
      "text/plain": [
       "68"
      ]
     },
     "execution_count": 29,
     "metadata": {},
     "output_type": "execute_result"
    }
   ],
   "source": [
    "302-234"
   ]
  },
  {
   "cell_type": "code",
   "execution_count": 32,
   "metadata": {},
   "outputs": [],
   "source": [
    "import pandas as pd"
   ]
  },
  {
   "cell_type": "code",
   "execution_count": 34,
   "metadata": {},
   "outputs": [],
   "source": [
    "query = '''SELECT charactercreator_character.character_id, charactercreator_character.name,  count(armory_item.item_id)\n",
    "FROM charactercreator_character, armory_item, charactercreator_character_inventory\n",
    "WHERE charactercreator_character.character_id = charactercreator_character_inventory.character_id\n",
    "AND armory_item.item_id = charactercreator_character_inventory.item_id\n",
    "GROUP BY charactercreator_character.character_id\n",
    "ORDER BY count(armory_item.item_id) DESC;\n",
    "'''\n",
    "curs.execute(query)\n",
    "items_data = curs.fetchall()"
   ]
  },
  {
   "cell_type": "code",
   "execution_count": 35,
   "metadata": {},
   "outputs": [],
   "source": [
    "df1 = pd.DataFrame(items_data)"
   ]
  },
  {
   "cell_type": "code",
   "execution_count": 38,
   "metadata": {},
   "outputs": [
    {
     "data": {
      "text/html": [
       "<div>\n",
       "<style scoped>\n",
       "    .dataframe tbody tr th:only-of-type {\n",
       "        vertical-align: middle;\n",
       "    }\n",
       "\n",
       "    .dataframe tbody tr th {\n",
       "        vertical-align: top;\n",
       "    }\n",
       "\n",
       "    .dataframe thead th {\n",
       "        text-align: right;\n",
       "    }\n",
       "</style>\n",
       "<table border=\"1\" class=\"dataframe\">\n",
       "  <thead>\n",
       "    <tr style=\"text-align: right;\">\n",
       "      <th></th>\n",
       "      <th>0</th>\n",
       "      <th>1</th>\n",
       "      <th>2</th>\n",
       "    </tr>\n",
       "  </thead>\n",
       "  <tbody>\n",
       "    <tr>\n",
       "      <td>0</td>\n",
       "      <td>302</td>\n",
       "      <td>Aliquam n</td>\n",
       "      <td>5</td>\n",
       "    </tr>\n",
       "    <tr>\n",
       "      <td>1</td>\n",
       "      <td>294</td>\n",
       "      <td>Duci</td>\n",
       "      <td>5</td>\n",
       "    </tr>\n",
       "    <tr>\n",
       "      <td>2</td>\n",
       "      <td>290</td>\n",
       "      <td>Provident sed soluta, sed si</td>\n",
       "      <td>5</td>\n",
       "    </tr>\n",
       "    <tr>\n",
       "      <td>3</td>\n",
       "      <td>289</td>\n",
       "      <td>Rem minima</td>\n",
       "      <td>5</td>\n",
       "    </tr>\n",
       "    <tr>\n",
       "      <td>4</td>\n",
       "      <td>287</td>\n",
       "      <td>Unde natus ut ipsa cupi</td>\n",
       "      <td>5</td>\n",
       "    </tr>\n",
       "  </tbody>\n",
       "</table>\n",
       "</div>"
      ],
      "text/plain": [
       "     0                             1  2\n",
       "0  302                     Aliquam n  5\n",
       "1  294                          Duci  5\n",
       "2  290  Provident sed soluta, sed si  5\n",
       "3  289                    Rem minima  5\n",
       "4  287       Unde natus ut ipsa cupi  5"
      ]
     },
     "execution_count": 38,
     "metadata": {},
     "output_type": "execute_result"
    }
   ],
   "source": [
    "df1.head()"
   ]
  },
  {
   "cell_type": "code",
   "execution_count": 41,
   "metadata": {},
   "outputs": [
    {
     "data": {
      "text/plain": [
       "2.9735099337748343"
      ]
     },
     "execution_count": 41,
     "metadata": {},
     "output_type": "execute_result"
    }
   ],
   "source": [
    "import numpy as np\n",
    "np.mean(df1[2])"
   ]
  },
  {
   "cell_type": "markdown",
   "metadata": {},
   "source": [
    "## AVG Number of weapons"
   ]
  },
  {
   "cell_type": "code",
   "execution_count": 42,
   "metadata": {},
   "outputs": [],
   "source": [
    "query = '''\n",
    "SELECT charactercreator_character.character_id, charactercreator_character.name,  count(armory_weapon.item_ptr_id)\n",
    "FROM charactercreator_character, armory_weapon, charactercreator_character_inventory\n",
    "WHERE charactercreator_character.character_id = charactercreator_character_inventory.character_id\n",
    "AND armory_weapon.item_ptr_id = charactercreator_character_inventory.item_id\n",
    "GROUP BY charactercreator_character.character_id\n",
    "ORDER BY count(armory_weapon.item_ptr_id) DESC;\n",
    "'''\n",
    "curs.execute(query)\n",
    "weapons_data = curs.fetchall()"
   ]
  },
  {
   "cell_type": "code",
   "execution_count": 44,
   "metadata": {},
   "outputs": [
    {
     "data": {
      "text/plain": [
       "1.3096774193548386"
      ]
     },
     "execution_count": 44,
     "metadata": {},
     "output_type": "execute_result"
    }
   ],
   "source": [
    "df2 = pd.DataFrame(weapons_data)\n",
    "np.mean(df2[2])"
   ]
  },
  {
   "cell_type": "markdown",
   "metadata": {},
   "source": [
    "# Assignment Part 2"
   ]
  },
  {
   "cell_type": "code",
   "execution_count": 18,
   "metadata": {},
   "outputs": [
    {
     "data": {
      "text/html": [
       "<div>\n",
       "<style scoped>\n",
       "    .dataframe tbody tr th:only-of-type {\n",
       "        vertical-align: middle;\n",
       "    }\n",
       "\n",
       "    .dataframe tbody tr th {\n",
       "        vertical-align: top;\n",
       "    }\n",
       "\n",
       "    .dataframe thead th {\n",
       "        text-align: right;\n",
       "    }\n",
       "</style>\n",
       "<table border=\"1\" class=\"dataframe\">\n",
       "  <thead>\n",
       "    <tr style=\"text-align: right;\">\n",
       "      <th></th>\n",
       "      <th>User Id</th>\n",
       "      <th>Sports</th>\n",
       "      <th>Religious</th>\n",
       "      <th>Nature</th>\n",
       "      <th>Theatre</th>\n",
       "      <th>Shopping</th>\n",
       "      <th>Picnic</th>\n",
       "    </tr>\n",
       "  </thead>\n",
       "  <tbody>\n",
       "    <tr>\n",
       "      <td>0</td>\n",
       "      <td>User 1</td>\n",
       "      <td>2</td>\n",
       "      <td>77</td>\n",
       "      <td>79</td>\n",
       "      <td>69</td>\n",
       "      <td>68</td>\n",
       "      <td>95</td>\n",
       "    </tr>\n",
       "    <tr>\n",
       "      <td>1</td>\n",
       "      <td>User 2</td>\n",
       "      <td>2</td>\n",
       "      <td>62</td>\n",
       "      <td>76</td>\n",
       "      <td>76</td>\n",
       "      <td>69</td>\n",
       "      <td>68</td>\n",
       "    </tr>\n",
       "    <tr>\n",
       "      <td>2</td>\n",
       "      <td>User 3</td>\n",
       "      <td>2</td>\n",
       "      <td>50</td>\n",
       "      <td>97</td>\n",
       "      <td>87</td>\n",
       "      <td>50</td>\n",
       "      <td>75</td>\n",
       "    </tr>\n",
       "    <tr>\n",
       "      <td>3</td>\n",
       "      <td>User 4</td>\n",
       "      <td>2</td>\n",
       "      <td>68</td>\n",
       "      <td>77</td>\n",
       "      <td>95</td>\n",
       "      <td>76</td>\n",
       "      <td>61</td>\n",
       "    </tr>\n",
       "    <tr>\n",
       "      <td>4</td>\n",
       "      <td>User 5</td>\n",
       "      <td>2</td>\n",
       "      <td>98</td>\n",
       "      <td>54</td>\n",
       "      <td>59</td>\n",
       "      <td>95</td>\n",
       "      <td>86</td>\n",
       "    </tr>\n",
       "  </tbody>\n",
       "</table>\n",
       "</div>"
      ],
      "text/plain": [
       "  User Id  Sports  Religious  Nature  Theatre  Shopping  Picnic\n",
       "0  User 1       2         77      79       69        68      95\n",
       "1  User 2       2         62      76       76        69      68\n",
       "2  User 3       2         50      97       87        50      75\n",
       "3  User 4       2         68      77       95        76      61\n",
       "4  User 5       2         98      54       59        95      86"
      ]
     },
     "execution_count": 18,
     "metadata": {},
     "output_type": "execute_result"
    }
   ],
   "source": [
    "import pandas as pd\n",
    "import numpy as np\n",
    "df = pd.read_csv('buddymove_holidayiq.csv')\n",
    "df.head()"
   ]
  },
  {
   "cell_type": "code",
   "execution_count": 46,
   "metadata": {},
   "outputs": [
    {
     "data": {
      "text/plain": [
       "User Id      0\n",
       "Sports       0\n",
       "Religious    0\n",
       "Nature       0\n",
       "Theatre      0\n",
       "Shopping     0\n",
       "Picnic       0\n",
       "dtype: int64"
      ]
     },
     "execution_count": 46,
     "metadata": {},
     "output_type": "execute_result"
    }
   ],
   "source": [
    "df.isnull().sum()"
   ]
  },
  {
   "cell_type": "code",
   "execution_count": 47,
   "metadata": {},
   "outputs": [
    {
     "data": {
      "text/plain": [
       "(249, 7)"
      ]
     },
     "execution_count": 47,
     "metadata": {},
     "output_type": "execute_result"
    }
   ],
   "source": [
    "df.shape"
   ]
  },
  {
   "cell_type": "code",
   "execution_count": 75,
   "metadata": {},
   "outputs": [
    {
     "data": {
      "text/html": [
       "<div>\n",
       "<style scoped>\n",
       "    .dataframe tbody tr th:only-of-type {\n",
       "        vertical-align: middle;\n",
       "    }\n",
       "\n",
       "    .dataframe tbody tr th {\n",
       "        vertical-align: top;\n",
       "    }\n",
       "\n",
       "    .dataframe thead th {\n",
       "        text-align: right;\n",
       "    }\n",
       "</style>\n",
       "<table border=\"1\" class=\"dataframe\">\n",
       "  <thead>\n",
       "    <tr style=\"text-align: right;\">\n",
       "      <th></th>\n",
       "      <th>User Id</th>\n",
       "      <th>Sports</th>\n",
       "      <th>Religious</th>\n",
       "      <th>Nature</th>\n",
       "      <th>Theatre</th>\n",
       "      <th>Shopping</th>\n",
       "      <th>Picnic</th>\n",
       "    </tr>\n",
       "  </thead>\n",
       "  <tbody>\n",
       "    <tr>\n",
       "      <td>0</td>\n",
       "      <td>User 1</td>\n",
       "      <td>2</td>\n",
       "      <td>77</td>\n",
       "      <td>79</td>\n",
       "      <td>69</td>\n",
       "      <td>68</td>\n",
       "      <td>95</td>\n",
       "    </tr>\n",
       "    <tr>\n",
       "      <td>1</td>\n",
       "      <td>User 2</td>\n",
       "      <td>2</td>\n",
       "      <td>62</td>\n",
       "      <td>76</td>\n",
       "      <td>76</td>\n",
       "      <td>69</td>\n",
       "      <td>68</td>\n",
       "    </tr>\n",
       "    <tr>\n",
       "      <td>2</td>\n",
       "      <td>User 3</td>\n",
       "      <td>2</td>\n",
       "      <td>50</td>\n",
       "      <td>97</td>\n",
       "      <td>87</td>\n",
       "      <td>50</td>\n",
       "      <td>75</td>\n",
       "    </tr>\n",
       "    <tr>\n",
       "      <td>3</td>\n",
       "      <td>User 4</td>\n",
       "      <td>2</td>\n",
       "      <td>68</td>\n",
       "      <td>77</td>\n",
       "      <td>95</td>\n",
       "      <td>76</td>\n",
       "      <td>61</td>\n",
       "    </tr>\n",
       "    <tr>\n",
       "      <td>4</td>\n",
       "      <td>User 5</td>\n",
       "      <td>2</td>\n",
       "      <td>98</td>\n",
       "      <td>54</td>\n",
       "      <td>59</td>\n",
       "      <td>95</td>\n",
       "      <td>86</td>\n",
       "    </tr>\n",
       "  </tbody>\n",
       "</table>\n",
       "</div>"
      ],
      "text/plain": [
       "  User Id  Sports  Religious  Nature  Theatre  Shopping  Picnic\n",
       "0  User 1       2         77      79       69        68      95\n",
       "1  User 2       2         62      76       76        69      68\n",
       "2  User 3       2         50      97       87        50      75\n",
       "3  User 4       2         68      77       95        76      61\n",
       "4  User 5       2         98      54       59        95      86"
      ]
     },
     "execution_count": 75,
     "metadata": {},
     "output_type": "execute_result"
    }
   ],
   "source": [
    "df.head()"
   ]
  },
  {
   "cell_type": "code",
   "execution_count": 25,
   "metadata": {},
   "outputs": [],
   "source": [
    "import sqlite3\n",
    "\n",
    "# make a connection\n",
    "conn = sqlite3.connect('/Users/faraazqureshi/repos/DS-Unit-3-Sprint-2-SQL-and-Databases/module1-introduction-to-sql/buddymove_holidayiq.sqlite3')"
   ]
  },
  {
   "cell_type": "code",
   "execution_count": 26,
   "metadata": {},
   "outputs": [],
   "source": [
    "# make a cursor\n",
    "curs = conn.cursor()"
   ]
  },
  {
   "cell_type": "code",
   "execution_count": 28,
   "metadata": {},
   "outputs": [
    {
     "data": {
      "text/plain": [
       "[('User 1', 2, 77, 79, 69, 68, 95),\n",
       " ('User 2', 2, 62, 76, 76, 69, 68),\n",
       " ('User 3', 2, 50, 97, 87, 50, 75),\n",
       " ('User 4', 2, 68, 77, 95, 76, 61),\n",
       " ('User 5', 2, 98, 54, 59, 95, 86),\n",
       " ('User 6', 3, 52, 109, 93, 52, 76),\n",
       " ('User 7', 3, 64, 85, 82, 73, 69),\n",
       " ('User 8', 3, 54, 107, 92, 54, 76),\n",
       " ('User 9', 3, 64, 108, 64, 54, 93),\n",
       " ('User 10', 3, 86, 76, 74, 74, 103),\n",
       " ('User 11', 3, 107, 54, 64, 103, 94),\n",
       " ('User 12', 3, 103, 60, 63, 102, 93),\n",
       " ('User 13', 3, 64, 82, 82, 75, 69),\n",
       " ('User 14', 3, 93, 54, 74, 103, 69),\n",
       " ('User 15', 3, 63, 82, 81, 78, 69),\n",
       " ('User 16', 3, 82, 79, 75, 75, 82),\n",
       " ('User 17', 5, 59, 131, 103, 54, 86),\n",
       " ('User 18', 5, 56, 124, 108, 56, 85),\n",
       " ('User 19', 4, 85, 67, 111, 65, 72),\n",
       " ('User 20', 5, 114, 83, 65, 114, 102),\n",
       " ('User 21', 4, 93, 82, 79, 79, 90),\n",
       " ('User 22', 4, 105, 52, 75, 113, 78),\n",
       " ('User 23', 5, 69, 118, 74, 66, 101),\n",
       " ('User 24', 4, 71, 123, 64, 59, 102),\n",
       " ('User 25', 5, 88, 94, 81, 79, 91),\n",
       " ('User 26', 5, 83, 99, 89, 74, 91),\n",
       " ('User 27', 5, 69, 133, 74, 54, 101),\n",
       " ('User 28', 5, 128, 53, 74, 117, 105),\n",
       " ('User 29', 5, 74, 123, 69, 61, 101),\n",
       " ('User 30', 5, 79, 93, 118, 90, 72),\n",
       " ('User 31', 4, 51, 115, 110, 51, 84),\n",
       " ('User 32', 5, 69, 93, 93, 81, 79),\n",
       " ('User 33', 4, 100, 53, 86, 112, 78),\n",
       " ('User 34', 4, 88, 69, 108, 71, 77),\n",
       " ('User 35', 4, 93, 84, 75, 84, 112),\n",
       " ('User 36', 4, 79, 86, 110, 93, 73),\n",
       " ('User 37', 4, 87, 72, 112, 63, 71),\n",
       " ('User 38', 5, 65, 128, 79, 56, 101),\n",
       " ('User 39', 4, 91, 66, 110, 69, 71),\n",
       " ('User 40', 4, 93, 79, 74, 92, 90),\n",
       " ('User 41', 5, 59, 118, 108, 63, 85),\n",
       " ('User 42', 5, 65, 103, 90, 80, 79),\n",
       " ('User 43', 4, 87, 89, 76, 89, 111),\n",
       " ('User 44', 4, 93, 85, 79, 85, 91),\n",
       " ('User 45', 5, 93, 94, 79, 79, 113),\n",
       " ('User 46', 5, 74, 130, 74, 53, 101),\n",
       " ('User 47', 4, 118, 59, 69, 119, 97),\n",
       " ('User 48', 4, 101, 61, 76, 113, 78),\n",
       " ('User 49', 5, 88, 99, 79, 83, 114),\n",
       " ('User 50', 4, 74, 87, 87, 79, 79),\n",
       " ('User 51', 14, 148, 59, 104, 208, 119),\n",
       " ('User 52', 5, 93, 89, 74, 89, 93),\n",
       " ('User 53', 4, 79, 103, 68, 103, 85),\n",
       " ('User 54', 4, 76, 92, 111, 90, 71),\n",
       " ('User 55', 8, 94, 140, 89, 118, 92),\n",
       " ('User 56', 8, 108, 109, 89, 89, 143),\n",
       " ('User 57', 6, 98, 89, 133, 79, 79),\n",
       " ('User 58', 8, 84, 118, 102, 94, 90),\n",
       " ('User 59', 8, 138, 74, 79, 143, 118),\n",
       " ('User 60', 6, 74, 109, 103, 89, 88),\n",
       " ('User 61', 8, 118, 104, 94, 94, 118),\n",
       " ('User 62', 8, 94, 128, 89, 128, 99),\n",
       " ('User 63', 8, 64, 155, 118, 64, 97),\n",
       " ('User 64', 6, 84, 108, 138, 103, 79),\n",
       " ('User 65', 8, 108, 109, 94, 99, 138),\n",
       " ('User 66', 6, 89, 108, 128, 116, 81),\n",
       " ('User 67', 6, 103, 79, 148, 74, 79),\n",
       " ('User 68', 6, 103, 109, 99, 89, 108),\n",
       " ('User 69', 8, 108, 99, 94, 94, 138),\n",
       " ('User 70', 8, 108, 109, 104, 79, 133),\n",
       " ('User 71', 8, 138, 59, 84, 138, 128),\n",
       " ('User 72', 8, 79, 143, 113, 69, 109),\n",
       " ('User 73', 8, 84, 153, 79, 64, 113),\n",
       " ('User 74', 8, 74, 148, 118, 64, 104),\n",
       " ('User 75', 8, 74, 153, 118, 59, 99),\n",
       " ('User 76', 6, 118, 64, 101, 133, 92),\n",
       " ('User 77', 6, 69, 153, 113, 59, 99),\n",
       " ('User 78', 6, 123, 68, 89, 128, 90),\n",
       " ('User 79', 6, 99, 104, 128, 64, 78),\n",
       " ('User 80', 6, 124, 59, 84, 143, 88),\n",
       " ('User 81', 6, 84, 131, 128, 93, 81),\n",
       " ('User 82', 6, 113, 64, 89, 141, 86),\n",
       " ('User 83', 6, 118, 64, 99, 134, 88),\n",
       " ('User 84', 8, 89, 143, 84, 64, 118),\n",
       " ('User 85', 6, 98, 89, 133, 69, 79),\n",
       " ('User 86', 6, 98, 104, 109, 91, 101),\n",
       " ('User 87', 8, 84, 143, 74, 74, 133),\n",
       " ('User 88', 8, 123, 64, 93, 148, 90),\n",
       " ('User 89', 6, 84, 113, 141, 98, 81),\n",
       " ('User 90', 6, 59, 148, 125, 59, 97),\n",
       " ('User 91', 8, 143, 69, 79, 143, 123),\n",
       " ('User 92', 8, 94, 133, 84, 125, 97),\n",
       " ('User 93', 8, 84, 108, 113, 93, 90),\n",
       " ('User 94', 8, 84, 138, 89, 69, 123),\n",
       " ('User 95', 6, 84, 108, 133, 98, 81),\n",
       " ('User 96', 6, 99, 84, 138, 69, 83),\n",
       " ('User 97', 8, 113, 94, 84, 109, 128),\n",
       " ('User 98', 6, 148, 64, 74, 138, 128),\n",
       " ('User 99', 8, 84, 138, 113, 64, 114),\n",
       " ('User 100', 6, 98, 79, 138, 79, 79),\n",
       " ('User 101', 8, 133, 84, 84, 133, 118),\n",
       " ('User 102', 6, 79, 113, 106, 87, 88),\n",
       " ('User 103', 8, 113, 104, 84, 94, 148),\n",
       " ('User 104', 6, 69, 138, 113, 79, 99),\n",
       " ('User 105', 6, 83, 103, 98, 99, 90),\n",
       " ('User 106', 8, 69, 143, 123, 71, 97),\n",
       " ('User 107', 8, 118, 94, 99, 99, 143),\n",
       " ('User 108', 6, 74, 133, 99, 74, 113),\n",
       " ('User 109', 12, 115, 94, 163, 109, 92),\n",
       " ('User 110', 12, 123, 124, 109, 114, 168),\n",
       " ('User 111', 12, 94, 133, 157, 133, 95),\n",
       " ('User 112', 12, 104, 123, 163, 128, 89),\n",
       " ('User 113', 14, 99, 198, 89, 74, 153),\n",
       " ('User 114', 14, 113, 148, 99, 148, 110),\n",
       " ('User 115', 14, 94, 163, 99, 94, 153),\n",
       " ('User 116', 12, 133, 104, 119, 129, 133),\n",
       " ('User 117', 14, 163, 69, 94, 188, 143),\n",
       " ('User 118', 12, 74, 158, 158, 74, 119),\n",
       " ('User 119', 12, 123, 124, 109, 129, 143),\n",
       " ('User 120', 12, 94, 137, 148, 113, 100),\n",
       " ('User 121', 12, 123, 129, 139, 99, 143),\n",
       " ('User 122', 12, 89, 163, 99, 79, 143),\n",
       " ('User 123', 14, 81, 173, 143, 79, 122),\n",
       " ('User 124', 14, 135, 84, 158, 139, 92),\n",
       " ('User 125', 12, 108, 113, 133, 114, 100),\n",
       " ('User 126', 14, 138, 119, 119, 124, 158),\n",
       " ('User 127', 12, 128, 122, 134, 109, 120),\n",
       " ('User 128', 14, 79, 203, 153, 69, 119),\n",
       " ('User 129', 12, 84, 150, 128, 104, 102),\n",
       " ('User 130', 12, 148, 69, 104, 173, 138),\n",
       " ('User 131', 14, 133, 124, 119, 124, 168),\n",
       " ('User 132', 12, 89, 128, 148, 111, 102),\n",
       " ('User 133', 12, 79, 183, 133, 70, 113),\n",
       " ('User 134', 12, 96, 113, 113, 99, 97),\n",
       " ('User 135', 14, 84, 161, 153, 84, 116),\n",
       " ('User 136', 12, 109, 135, 158, 123, 92),\n",
       " ('User 137', 12, 133, 74, 114, 175, 102),\n",
       " ('User 138', 14, 133, 139, 124, 109, 128),\n",
       " ('User 139', 12, 128, 124, 114, 111, 126),\n",
       " ('User 140', 10, 97, 123, 108, 119, 111),\n",
       " ('User 141', 12, 123, 104, 104, 134, 153),\n",
       " ('User 142', 10, 113, 89, 168, 89, 89),\n",
       " ('User 143', 12, 109, 148, 94, 133, 119),\n",
       " ('User 144', 10, 165, 64, 94, 173, 97),\n",
       " ('User 145', 12, 93, 123, 123, 124, 100),\n",
       " ('User 146', 14, 143, 98, 119, 163, 105),\n",
       " ('User 147', 12, 89, 158, 89, 89, 158),\n",
       " ('User 148', 10, 113, 111, 153, 84, 97),\n",
       " ('User 149', 12, 138, 86, 114, 158, 102),\n",
       " ('User 150', 12, 79, 158, 148, 69, 119),\n",
       " ('User 151', 14, 84, 178, 138, 87, 116),\n",
       " ('User 152', 14, 84, 168, 148, 80, 113),\n",
       " ('User 153', 14, 84, 173, 143, 69, 110),\n",
       " ('User 154', 12, 104, 130, 178, 118, 92),\n",
       " ('User 155', 10, 99, 123, 153, 128, 103),\n",
       " ('User 156', 12, 93, 128, 118, 119, 100),\n",
       " ('User 157', 12, 128, 119, 104, 119, 173),\n",
       " ('User 158', 14, 94, 178, 109, 69, 143),\n",
       " ('User 159', 12, 148, 69, 104, 168, 114),\n",
       " ('User 160', 12, 113, 114, 109, 119, 143),\n",
       " ('User 161', 12, 153, 74, 94, 163, 158),\n",
       " ('User 162', 22, 139, 163, 114, 203, 139),\n",
       " ('User 163', 14, 163, 99, 94, 158, 143),\n",
       " ('User 164', 12, 89, 178, 89, 79, 153),\n",
       " ('User 165', 12, 79, 183, 104, 69, 148),\n",
       " ('User 166', 12, 168, 69, 84, 198, 133),\n",
       " ('User 167', 22, 128, 158, 183, 158, 130),\n",
       " ('User 168', 22, 129, 188, 109, 104, 198),\n",
       " ('User 169', 16, 178, 74, 114, 198, 129),\n",
       " ('User 170', 20, 143, 139, 139, 139, 148),\n",
       " ('User 171', 20, 114, 198, 124, 114, 153),\n",
       " ('User 172', 18, 105, 158, 143, 129, 133),\n",
       " ('User 173', 20, 120, 193, 104, 148, 138),\n",
       " ('User 174', 20, 98, 193, 163, 99, 140),\n",
       " ('User 175', 22, 148, 174, 129, 129, 153),\n",
       " ('User 176', 20, 183, 104, 164, 193, 153),\n",
       " ('User 177', 18, 99, 203, 129, 94, 158),\n",
       " ('User 178', 22, 139, 178, 139, 163, 144),\n",
       " ('User 179', 22, 90, 188, 163, 109, 138),\n",
       " ('User 180', 18, 163, 84, 129, 193, 139),\n",
       " ('User 181', 18, 88, 178, 178, 89, 140),\n",
       " ('User 182', 18, 114, 144, 213, 133, 128),\n",
       " ('User 183', 22, 143, 124, 208, 134, 124),\n",
       " ('User 184', 20, 188, 94, 104, 208, 158),\n",
       " ('User 185', 18, 99, 228, 104, 84, 163),\n",
       " ('User 186', 18, 178, 94, 114, 188, 173),\n",
       " ('User 187', 22, 119, 198, 149, 114, 168),\n",
       " ('User 188', 20, 114, 203, 109, 84, 158),\n",
       " ('User 189', 18, 99, 193, 158, 99, 144),\n",
       " ('User 190', 22, 153, 139, 154, 154, 183),\n",
       " ('User 191', 20, 162, 94, 144, 198, 135),\n",
       " ('User 192', 18, 132, 149, 139, 119, 144),\n",
       " ('User 193', 18, 104, 193, 114, 99, 173),\n",
       " ('User 194', 18, 99, 183, 128, 114, 129),\n",
       " ('User 195', 20, 178, 89, 154, 198, 183),\n",
       " ('User 196', 20, 114, 243, 104, 79, 173),\n",
       " ('User 197', 22, 133, 183, 114, 183, 140),\n",
       " ('User 198', 22, 148, 149, 154, 149, 148),\n",
       " ('User 199', 22, 114, 213, 129, 94, 178),\n",
       " ('User 200', 22, 188, 124, 114, 183, 188),\n",
       " ('User 201', 25, 153, 159, 129, 139, 218),\n",
       " ('User 202', 18, 114, 153, 178, 138, 124),\n",
       " ('User 203', 22, 184, 84, 129, 233, 133),\n",
       " ('User 204', 18, 84, 193, 188, 80, 138),\n",
       " ('User 205', 18, 178, 129, 104, 183, 163),\n",
       " ('User 206', 18, 114, 163, 163, 148, 124),\n",
       " ('User 207', 16, 132, 94, 178, 109, 120),\n",
       " ('User 208', 20, 93, 183, 178, 89, 140),\n",
       " ('User 209', 16, 137, 104, 173, 109, 130),\n",
       " ('User 210', 18, 153, 74, 114, 188, 129),\n",
       " ('User 211', 18, 128, 114, 168, 124, 124),\n",
       " ('User 212', 22, 114, 228, 119, 99, 168),\n",
       " ('User 213', 22, 178, 89, 114, 203, 139),\n",
       " ('User 214', 18, 173, 84, 99, 193, 158),\n",
       " ('User 215', 20, 168, 89, 124, 183, 129),\n",
       " ('User 216', 18, 83, 198, 163, 84, 140),\n",
       " ('User 217', 22, 144, 173, 134, 173, 149),\n",
       " ('User 218', 18, 198, 64, 89, 203, 153),\n",
       " ('User 219', 20, 114, 208, 114, 119, 168),\n",
       " ('User 220', 18, 114, 183, 114, 109, 178),\n",
       " ('User 221', 18, 114, 173, 183, 128, 124),\n",
       " ('User 222', 18, 128, 134, 188, 89, 124),\n",
       " ('User 223', 18, 143, 154, 129, 129, 178),\n",
       " ('User 224', 18, 128, 163, 173, 133, 130),\n",
       " ('User 225', 18, 148, 99, 139, 168, 129),\n",
       " ('User 226', 18, 83, 218, 163, 74, 140),\n",
       " ('User 227', 22, 120, 168, 158, 144, 133),\n",
       " ('User 228', 22, 203, 99, 104, 223, 173),\n",
       " ('User 229', 18, 143, 139, 119, 139, 203),\n",
       " ('User 230', 22, 153, 144, 139, 144, 193),\n",
       " ('User 231', 18, 147, 144, 129, 149, 144),\n",
       " ('User 232', 18, 188, 74, 109, 213, 168),\n",
       " ('User 233', 25, 158, 154, 154, 154, 153),\n",
       " ('User 234', 25, 104, 208, 168, 134, 144),\n",
       " ('User 235', 25, 139, 153, 193, 158, 134),\n",
       " ('User 236', 25, 84, 247, 168, 109, 140),\n",
       " ('User 237', 25, 173, 89, 124, 233, 158),\n",
       " ('User 238', 8, 93, 119, 99, 89, 138),\n",
       " ('User 239', 22, 124, 168, 208, 148, 124),\n",
       " ('User 240', 18, 114, 158, 178, 158, 124),\n",
       " ('User 241', 20, 188, 94, 94, 223, 153),\n",
       " ('User 242', 25, 114, 238, 124, 104, 178),\n",
       " ('User 243', 18, 94, 188, 148, 99, 139),\n",
       " ('User 244', 25, 129, 318, 94, 89, 188),\n",
       " ('User 245', 18, 139, 148, 129, 129, 168),\n",
       " ('User 246', 22, 114, 228, 104, 84, 168),\n",
       " ('User 247', 20, 124, 178, 104, 158, 174),\n",
       " ('User 248', 20, 133, 149, 139, 144, 213),\n",
       " ('User 249', 20, 143, 149, 139, 159, 143)]"
      ]
     },
     "execution_count": 28,
     "metadata": {},
     "output_type": "execute_result"
    }
   ],
   "source": [
    "query = '''SELECT * FROM review\n",
    "'''\n",
    "curs.execute(query)\n",
    "curs.fetchall()"
   ]
  },
  {
   "cell_type": "markdown",
   "metadata": {},
   "source": [
    "## How many rows"
   ]
  },
  {
   "cell_type": "code",
   "execution_count": 29,
   "metadata": {},
   "outputs": [
    {
     "data": {
      "text/plain": [
       "[(249,)]"
      ]
     },
     "execution_count": 29,
     "metadata": {},
     "output_type": "execute_result"
    }
   ],
   "source": [
    "query = '''SELECT count(*) FROM review \n",
    "'''\n",
    "curs.execute(query)\n",
    "curs.fetchall()"
   ]
  },
  {
   "cell_type": "markdown",
   "metadata": {},
   "source": [
    "## How many users reviewed more than 100 Nature and more than 100 Shopping"
   ]
  },
  {
   "cell_type": "code",
   "execution_count": 30,
   "metadata": {},
   "outputs": [
    {
     "data": {
      "text/plain": [
       "[(78,)]"
      ]
     },
     "execution_count": 30,
     "metadata": {},
     "output_type": "execute_result"
    }
   ],
   "source": [
    "query = '''SELECT count(*)\n",
    "FROM review\n",
    "WHERE Nature >= 100 AND Shopping >= 100\n",
    "'''\n",
    "curs.execute(query)\n",
    "curs.fetchall()"
   ]
  },
  {
   "cell_type": "code",
   "execution_count": null,
   "metadata": {},
   "outputs": [],
   "source": [
    "## done from the command line will convert notebooks to .py\n",
    "jupyter nbconvert --to script *.ipynb"
   ]
  },
  {
   "cell_type": "code",
   "execution_count": null,
   "metadata": {},
   "outputs": [],
   "source": [
    "password for mongo KHpvex7cE7of5PrU\n",
    "mongodb://Faraaz:<password>@cluster0-shard-00-00-kdeaz.mongodb.net:27017,cluster0-shard-00-01-kdeaz.mongodb.net:27017,cluster0-shard-00-02-kdeaz.mongodb.net:27017/test?ssl=true&replicaSet=Cluster0-shard-0&authSource=admin&retryWrites=true&w=majority"
   ]
  }
 ],
 "metadata": {
  "kernelspec": {
   "display_name": "Python 3",
   "language": "python",
   "name": "python3"
  },
  "language_info": {
   "codemirror_mode": {
    "name": "ipython",
    "version": 3
   },
   "file_extension": ".py",
   "mimetype": "text/x-python",
   "name": "python",
   "nbconvert_exporter": "python",
   "pygments_lexer": "ipython3",
   "version": "3.7.4"
  }
 },
 "nbformat": 4,
 "nbformat_minor": 2
}
