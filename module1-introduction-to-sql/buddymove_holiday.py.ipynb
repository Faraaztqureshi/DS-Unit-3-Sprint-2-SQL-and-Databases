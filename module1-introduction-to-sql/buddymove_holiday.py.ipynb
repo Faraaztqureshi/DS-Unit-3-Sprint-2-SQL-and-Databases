{
 "cells": [
  {
   "cell_type": "code",
   "execution_count": 1,
   "metadata": {},
   "outputs": [],
   "source": [
    "import sqlite3\n",
    "\n",
    "# make a connection\n",
    "conn = sqlite3.connect('/Users/faraazqureshi/repos/DS-Unit-3-Sprint-2-SQL-and-Databases/module1-introduction-to-sql/rpg_db.sqlite3')\n"
   ]
  },
  {
   "cell_type": "code",
   "execution_count": 2,
   "metadata": {},
   "outputs": [],
   "source": [
    "# make a cursor\n",
    "curs = conn.cursor()"
   ]
  },
  {
   "cell_type": "markdown",
   "metadata": {},
   "source": [
    "## Total Characters"
   ]
  },
  {
   "cell_type": "code",
   "execution_count": 3,
   "metadata": {},
   "outputs": [
    {
     "name": "stdout",
     "output_type": "stream",
     "text": [
      "[(302,)]\n"
     ]
    }
   ],
   "source": [
    "# determine how many total characters\n",
    "curs.execute('SELECT count(*) FROM charactercreator_character')\n",
    "print(curs.fetchall())"
   ]
  },
  {
   "cell_type": "markdown",
   "metadata": {},
   "source": [
    "## Total characters of each subclass"
   ]
  },
  {
   "cell_type": "code",
   "execution_count": 6,
   "metadata": {},
   "outputs": [
    {
     "name": "stdout",
     "output_type": "stream",
     "text": [
      "Cleric count: [(75,)]\n"
     ]
    }
   ],
   "source": [
    "# how many characters of each subclass\n",
    "curs.execute('SELECT count(*) FROM charactercreator_cleric')\n",
    "print(\"Cleric count: \" + str(curs.fetchall()))"
   ]
  },
  {
   "cell_type": "code",
   "execution_count": 8,
   "metadata": {},
   "outputs": [
    {
     "name": "stdout",
     "output_type": "stream",
     "text": [
      "Fighter count: [(68,)]\n"
     ]
    }
   ],
   "source": [
    "curs.execute('SELECT count(*) FROM charactercreator_fighter')\n",
    "print(\"Fighter count: \" + str(curs.fetchall()))"
   ]
  },
  {
   "cell_type": "code",
   "execution_count": 9,
   "metadata": {},
   "outputs": [
    {
     "name": "stdout",
     "output_type": "stream",
     "text": [
      "Mage count: [(108,)]\n"
     ]
    }
   ],
   "source": [
    "curs.execute('SELECT count(*) FROM charactercreator_mage')\n",
    "print(\"Mage count: \" + str(curs.fetchall()))"
   ]
  },
  {
   "cell_type": "code",
   "execution_count": 10,
   "metadata": {},
   "outputs": [
    {
     "name": "stdout",
     "output_type": "stream",
     "text": [
      "Necromancer count: [(11,)]\n"
     ]
    }
   ],
   "source": [
    "curs.execute('SELECT count(*) FROM charactercreator_necromancer')\n",
    "print(\"Necromancer count: \" + str(curs.fetchall()))"
   ]
  },
  {
   "cell_type": "code",
   "execution_count": 11,
   "metadata": {},
   "outputs": [
    {
     "name": "stdout",
     "output_type": "stream",
     "text": [
      "Thief count: [(51,)]\n"
     ]
    }
   ],
   "source": [
    "curs.execute('SELECT count(*) FROM charactercreator_thief')\n",
    "print(\"Thief count: \" + str(curs.fetchall()))"
   ]
  },
  {
   "cell_type": "markdown",
   "metadata": {},
   "source": [
    "## How many total items"
   ]
  },
  {
   "cell_type": "code",
   "execution_count": 12,
   "metadata": {},
   "outputs": [
    {
     "name": "stdout",
     "output_type": "stream",
     "text": [
      "Total Items: [(174,)]\n"
     ]
    }
   ],
   "source": [
    "curs.execute('SELECT count(*) FROM armory_item')\n",
    "print(\"Total Items: \" + str(curs.fetchall()))"
   ]
  },
  {
   "cell_type": "markdown",
   "metadata": {},
   "source": [
    "## Of the total items how many are weapons"
   ]
  },
  {
   "cell_type": "code",
   "execution_count": 22,
   "metadata": {},
   "outputs": [
    {
     "data": {
      "text/plain": [
       "[(174,)]"
      ]
     },
     "execution_count": 22,
     "metadata": {},
     "output_type": "execute_result"
    }
   ],
   "source": [
    "# total number of items\n",
    "curs.execute('SELECT count(*) FROM armory_item')\n",
    "curs.fetchall()"
   ]
  },
  {
   "cell_type": "code",
   "execution_count": 19,
   "metadata": {},
   "outputs": [
    {
     "name": "stdout",
     "output_type": "stream",
     "text": [
      "Number of items that are weapons: [(37,)]\n"
     ]
    }
   ],
   "source": [
    "# total number of items that are weapons method 1\n",
    "curs.execute('SELECT count(*) FROM armory_item, armory_weapon WHERE armory_item.item_id = armory_weapon.item_ptr_id')\n",
    "print(\"Number of items that are weapons: \" + str(curs.fetchall()))"
   ]
  },
  {
   "cell_type": "code",
   "execution_count": 17,
   "metadata": {},
   "outputs": [
    {
     "name": "stdout",
     "output_type": "stream",
     "text": [
      "Number of items that are weapons: [(37,)]\n"
     ]
    }
   ],
   "source": [
    "# total nmber of items that are weapons method 2\n",
    "curs.execute('SELECT count(*) FROM armory_item JOIN armory_weapon ON armory_item.item_id = armory_weapon.item_ptr_id')\n",
    "print(\"Number of items that are weapons: \" + str(curs.fetchall()))"
   ]
  },
  {
   "cell_type": "markdown",
   "metadata": {},
   "source": [
    "## How many items does each character have"
   ]
  },
  {
   "cell_type": "code",
   "execution_count": 24,
   "metadata": {},
   "outputs": [
    {
     "data": {
      "text/plain": [
       "[(302, 'Aliquam n', 5),\n",
       " (294, 'Duci', 5),\n",
       " (290, 'Provident sed soluta, sed si', 5),\n",
       " (289, 'Rem minima', 5),\n",
       " (287, 'Unde natus ut ipsa cupi', 5),\n",
       " (285, 'Molestiae quaerat maxim', 5),\n",
       " (281, 'Similique aperiam earum expli', 5),\n",
       " (280, 'Asperi', 5),\n",
       " (266, 'Mag', 5),\n",
       " (264, 'Verita', 5),\n",
       " (261, 'Iusto quas voluptatibu', 5),\n",
       " (259, 'Atque aspernatur possi', 5),\n",
       " (251, 'Non qui vo', 5),\n",
       " (247, 'Dolorem quaerat sunt', 5),\n",
       " (245, 'Provident nostrum minima', 5),\n",
       " (238, 'Aliqu', 5),\n",
       " (235, 'Nulla', 5),\n",
       " (233, 'Maiores quos incidunt dolor', 5),\n",
       " (206, 'Dolores aliquid inv', 5),\n",
       " (201, 'Officiis su', 5)]"
      ]
     },
     "execution_count": 24,
     "metadata": {},
     "output_type": "execute_result"
    }
   ],
   "source": [
    "'''SELECT charactercreator_character.character_id, charactercreator_character.name,  count(armory_item.item_id)\n",
    "FROM charactercreator_character, armory_item, charactercreator_character_inventory\n",
    "WHERE charactercreator_character.character_id = charactercreator_character_inventory.character_id\n",
    "AND armory_item.item_id = charactercreator_character_inventory.item_id\n",
    "GROUP BY charactercreator_character.character_id\n",
    "ORDER BY count(armory_item.item_id) DESC\n",
    "LIMIT 20;\n",
    "'''\n",
    "curs.execute('SELECT charactercreator_character.character_id, charactercreator_character.name,  count(armory_item.item_id) FROM charactercreator_character, armory_item, charactercreator_character_inventory WHERE charactercreator_character.character_id = charactercreator_character_inventory.character_id AND armory_item.item_id = charactercreator_character_inventory.item_id GROUP BY charactercreator_character.character_id ORDER BY count(armory_item.item_id) DESC LIMIT 20;')\n",
    "curs.fetchall()"
   ]
  },
  {
   "cell_type": "markdown",
   "metadata": {},
   "source": [
    "## How many weapons does each character have?"
   ]
  },
  {
   "cell_type": "code",
   "execution_count": 25,
   "metadata": {},
   "outputs": [],
   "source": [
    "query = '''\n",
    "SELECT charactercreator_character.character_id, charactercreator_character.name,  count(armory_weapon.item_ptr_id)\n",
    "FROM charactercreator_character, armory_weapon, charactercreator_character_inventory\n",
    "WHERE charactercreator_character.character_id = charactercreator_character_inventory.character_id\n",
    "AND armory_weapon.item_ptr_id = charactercreator_character_inventory.item_id\n",
    "GROUP BY charactercreator_character.character_id\n",
    "ORDER BY count(armory_weapon.item_ptr_id) DESC\n",
    "LIMIT 20;\n",
    "'''"
   ]
  },
  {
   "cell_type": "code",
   "execution_count": 27,
   "metadata": {},
   "outputs": [
    {
     "data": {
      "text/plain": [
       "[(227, 'Dignissimos a', 3),\n",
       " (199, 'Illo en', 3),\n",
       " (142, 'Explicabo recusandae ma', 3),\n",
       " (70, 'Perferendis commodi null', 3),\n",
       " (63, 'Reprehenderit commodi eius', 3),\n",
       " (36, 'Sint quibusdam ob', 3),\n",
       " (27, 'Ab voluptas se', 3),\n",
       " (294, 'Duci', 2),\n",
       " (280, 'Asperi', 2),\n",
       " (261, 'Iusto quas voluptatibu', 2),\n",
       " (256, 'Omni', 2),\n",
       " (250, 'Iste debitis dolorum amet m', 2),\n",
       " (247, 'Dolorem quaerat sunt', 2),\n",
       " (245, 'Provident nostrum minima', 2),\n",
       " (241, 'Reprehenderit li', 2),\n",
       " (238, 'Aliqu', 2),\n",
       " (206, 'Dolores aliquid inv', 2),\n",
       " (194, 'Acc', 2),\n",
       " (192, 'Reiciendis assumenda dolo', 2),\n",
       " (183, 'Architecto repudian', 2)]"
      ]
     },
     "execution_count": 27,
     "metadata": {},
     "output_type": "execute_result"
    }
   ],
   "source": [
    "curs.execute(query)\n",
    "curs.fetchall()"
   ]
  },
  {
   "cell_type": "markdown",
   "metadata": {},
   "source": [
    "## AVG Number of Items"
   ]
  },
  {
   "cell_type": "code",
   "execution_count": 31,
   "metadata": {},
   "outputs": [
    {
     "data": {
      "text/plain": [
       "2.9735099337748343"
      ]
     },
     "execution_count": 31,
     "metadata": {},
     "output_type": "execute_result"
    }
   ],
   "source": [
    "((58 * 5) +(62 * 4) + (64 * 3) + (50* 2) + (68 * 1)) / 302"
   ]
  },
  {
   "cell_type": "code",
   "execution_count": 28,
   "metadata": {},
   "outputs": [
    {
     "data": {
      "text/plain": [
       "234"
      ]
     },
     "execution_count": 28,
     "metadata": {},
     "output_type": "execute_result"
    }
   ],
   "source": [
    "58 + 62 + 64 +50"
   ]
  },
  {
   "cell_type": "code",
   "execution_count": 29,
   "metadata": {},
   "outputs": [
    {
     "data": {
      "text/plain": [
       "68"
      ]
     },
     "execution_count": 29,
     "metadata": {},
     "output_type": "execute_result"
    }
   ],
   "source": [
    "302-234"
   ]
  },
  {
   "cell_type": "code",
   "execution_count": 32,
   "metadata": {},
   "outputs": [],
   "source": [
    "import pandas as pd"
   ]
  },
  {
   "cell_type": "code",
   "execution_count": 34,
   "metadata": {},
   "outputs": [],
   "source": [
    "query = '''SELECT charactercreator_character.character_id, charactercreator_character.name,  count(armory_item.item_id)\n",
    "FROM charactercreator_character, armory_item, charactercreator_character_inventory\n",
    "WHERE charactercreator_character.character_id = charactercreator_character_inventory.character_id\n",
    "AND armory_item.item_id = charactercreator_character_inventory.item_id\n",
    "GROUP BY charactercreator_character.character_id\n",
    "ORDER BY count(armory_item.item_id) DESC;\n",
    "'''\n",
    "curs.execute(query)\n",
    "items_data = curs.fetchall()"
   ]
  },
  {
   "cell_type": "code",
   "execution_count": 35,
   "metadata": {},
   "outputs": [],
   "source": [
    "df1 = pd.DataFrame(items_data)"
   ]
  },
  {
   "cell_type": "code",
   "execution_count": 38,
   "metadata": {},
   "outputs": [
    {
     "data": {
      "text/html": [
       "<div>\n",
       "<style scoped>\n",
       "    .dataframe tbody tr th:only-of-type {\n",
       "        vertical-align: middle;\n",
       "    }\n",
       "\n",
       "    .dataframe tbody tr th {\n",
       "        vertical-align: top;\n",
       "    }\n",
       "\n",
       "    .dataframe thead th {\n",
       "        text-align: right;\n",
       "    }\n",
       "</style>\n",
       "<table border=\"1\" class=\"dataframe\">\n",
       "  <thead>\n",
       "    <tr style=\"text-align: right;\">\n",
       "      <th></th>\n",
       "      <th>0</th>\n",
       "      <th>1</th>\n",
       "      <th>2</th>\n",
       "    </tr>\n",
       "  </thead>\n",
       "  <tbody>\n",
       "    <tr>\n",
       "      <td>0</td>\n",
       "      <td>302</td>\n",
       "      <td>Aliquam n</td>\n",
       "      <td>5</td>\n",
       "    </tr>\n",
       "    <tr>\n",
       "      <td>1</td>\n",
       "      <td>294</td>\n",
       "      <td>Duci</td>\n",
       "      <td>5</td>\n",
       "    </tr>\n",
       "    <tr>\n",
       "      <td>2</td>\n",
       "      <td>290</td>\n",
       "      <td>Provident sed soluta, sed si</td>\n",
       "      <td>5</td>\n",
       "    </tr>\n",
       "    <tr>\n",
       "      <td>3</td>\n",
       "      <td>289</td>\n",
       "      <td>Rem minima</td>\n",
       "      <td>5</td>\n",
       "    </tr>\n",
       "    <tr>\n",
       "      <td>4</td>\n",
       "      <td>287</td>\n",
       "      <td>Unde natus ut ipsa cupi</td>\n",
       "      <td>5</td>\n",
       "    </tr>\n",
       "  </tbody>\n",
       "</table>\n",
       "</div>"
      ],
      "text/plain": [
       "     0                             1  2\n",
       "0  302                     Aliquam n  5\n",
       "1  294                          Duci  5\n",
       "2  290  Provident sed soluta, sed si  5\n",
       "3  289                    Rem minima  5\n",
       "4  287       Unde natus ut ipsa cupi  5"
      ]
     },
     "execution_count": 38,
     "metadata": {},
     "output_type": "execute_result"
    }
   ],
   "source": [
    "df1.head()"
   ]
  },
  {
   "cell_type": "code",
   "execution_count": 41,
   "metadata": {},
   "outputs": [
    {
     "data": {
      "text/plain": [
       "2.9735099337748343"
      ]
     },
     "execution_count": 41,
     "metadata": {},
     "output_type": "execute_result"
    }
   ],
   "source": [
    "import numpy as np\n",
    "np.mean(df1[2])"
   ]
  },
  {
   "cell_type": "markdown",
   "metadata": {},
   "source": [
    "## AVG Number of weapons"
   ]
  },
  {
   "cell_type": "code",
   "execution_count": 42,
   "metadata": {},
   "outputs": [],
   "source": [
    "query = '''\n",
    "SELECT charactercreator_character.character_id, charactercreator_character.name,  count(armory_weapon.item_ptr_id)\n",
    "FROM charactercreator_character, armory_weapon, charactercreator_character_inventory\n",
    "WHERE charactercreator_character.character_id = charactercreator_character_inventory.character_id\n",
    "AND armory_weapon.item_ptr_id = charactercreator_character_inventory.item_id\n",
    "GROUP BY charactercreator_character.character_id\n",
    "ORDER BY count(armory_weapon.item_ptr_id) DESC;\n",
    "'''\n",
    "curs.execute(query)\n",
    "weapons_data = curs.fetchall()"
   ]
  },
  {
   "cell_type": "code",
   "execution_count": 44,
   "metadata": {},
   "outputs": [
    {
     "data": {
      "text/plain": [
       "1.3096774193548386"
      ]
     },
     "execution_count": 44,
     "metadata": {},
     "output_type": "execute_result"
    }
   ],
   "source": [
    "df2 = pd.DataFrame(weapons_data)\n",
    "np.mean(df2[2])"
   ]
  },
  {
   "cell_type": "markdown",
   "metadata": {},
   "source": [
    "# Assignment Part 2"
   ]
  },
  {
   "cell_type": "code",
   "execution_count": 45,
   "metadata": {},
   "outputs": [
    {
     "data": {
      "text/html": [
       "<div>\n",
       "<style scoped>\n",
       "    .dataframe tbody tr th:only-of-type {\n",
       "        vertical-align: middle;\n",
       "    }\n",
       "\n",
       "    .dataframe tbody tr th {\n",
       "        vertical-align: top;\n",
       "    }\n",
       "\n",
       "    .dataframe thead th {\n",
       "        text-align: right;\n",
       "    }\n",
       "</style>\n",
       "<table border=\"1\" class=\"dataframe\">\n",
       "  <thead>\n",
       "    <tr style=\"text-align: right;\">\n",
       "      <th></th>\n",
       "      <th>User Id</th>\n",
       "      <th>Sports</th>\n",
       "      <th>Religious</th>\n",
       "      <th>Nature</th>\n",
       "      <th>Theatre</th>\n",
       "      <th>Shopping</th>\n",
       "      <th>Picnic</th>\n",
       "    </tr>\n",
       "  </thead>\n",
       "  <tbody>\n",
       "    <tr>\n",
       "      <td>0</td>\n",
       "      <td>User 1</td>\n",
       "      <td>2</td>\n",
       "      <td>77</td>\n",
       "      <td>79</td>\n",
       "      <td>69</td>\n",
       "      <td>68</td>\n",
       "      <td>95</td>\n",
       "    </tr>\n",
       "    <tr>\n",
       "      <td>1</td>\n",
       "      <td>User 2</td>\n",
       "      <td>2</td>\n",
       "      <td>62</td>\n",
       "      <td>76</td>\n",
       "      <td>76</td>\n",
       "      <td>69</td>\n",
       "      <td>68</td>\n",
       "    </tr>\n",
       "    <tr>\n",
       "      <td>2</td>\n",
       "      <td>User 3</td>\n",
       "      <td>2</td>\n",
       "      <td>50</td>\n",
       "      <td>97</td>\n",
       "      <td>87</td>\n",
       "      <td>50</td>\n",
       "      <td>75</td>\n",
       "    </tr>\n",
       "    <tr>\n",
       "      <td>3</td>\n",
       "      <td>User 4</td>\n",
       "      <td>2</td>\n",
       "      <td>68</td>\n",
       "      <td>77</td>\n",
       "      <td>95</td>\n",
       "      <td>76</td>\n",
       "      <td>61</td>\n",
       "    </tr>\n",
       "    <tr>\n",
       "      <td>4</td>\n",
       "      <td>User 5</td>\n",
       "      <td>2</td>\n",
       "      <td>98</td>\n",
       "      <td>54</td>\n",
       "      <td>59</td>\n",
       "      <td>95</td>\n",
       "      <td>86</td>\n",
       "    </tr>\n",
       "  </tbody>\n",
       "</table>\n",
       "</div>"
      ],
      "text/plain": [
       "  User Id  Sports  Religious  Nature  Theatre  Shopping  Picnic\n",
       "0  User 1       2         77      79       69        68      95\n",
       "1  User 2       2         62      76       76        69      68\n",
       "2  User 3       2         50      97       87        50      75\n",
       "3  User 4       2         68      77       95        76      61\n",
       "4  User 5       2         98      54       59        95      86"
      ]
     },
     "execution_count": 45,
     "metadata": {},
     "output_type": "execute_result"
    }
   ],
   "source": [
    "df = pd.read_csv('buddymove_holidayiq.csv')\n",
    "df.head()"
   ]
  },
  {
   "cell_type": "code",
   "execution_count": 46,
   "metadata": {},
   "outputs": [
    {
     "data": {
      "text/plain": [
       "User Id      0\n",
       "Sports       0\n",
       "Religious    0\n",
       "Nature       0\n",
       "Theatre      0\n",
       "Shopping     0\n",
       "Picnic       0\n",
       "dtype: int64"
      ]
     },
     "execution_count": 46,
     "metadata": {},
     "output_type": "execute_result"
    }
   ],
   "source": [
    "df.isnull().sum()"
   ]
  },
  {
   "cell_type": "code",
   "execution_count": 47,
   "metadata": {},
   "outputs": [
    {
     "data": {
      "text/plain": [
       "(249, 7)"
      ]
     },
     "execution_count": 47,
     "metadata": {},
     "output_type": "execute_result"
    }
   ],
   "source": [
    "df.shape"
   ]
  },
  {
   "cell_type": "code",
   "execution_count": 58,
   "metadata": {},
   "outputs": [],
   "source": [
    "conn = sqlite3.connect('buddymove_holidayiq.sqlite3')"
   ]
  },
  {
   "cell_type": "code",
   "execution_count": null,
   "metadata": {},
   "outputs": [],
   "source": [
    "c = conn.cursor()"
   ]
  },
  {
   "cell_type": "code",
   "execution_count": 59,
   "metadata": {},
   "outputs": [],
   "source": [
    "from sqlalchemy import create_engine\n",
    "engine = create_engine('sqlite://', echo=False)"
   ]
  },
  {
   "cell_type": "code",
   "execution_count": 60,
   "metadata": {},
   "outputs": [],
   "source": [
    "df.to_sql(\"Reviews\", con = engine)"
   ]
  },
  {
   "cell_type": "code",
   "execution_count": null,
   "metadata": {},
   "outputs": [],
   "source": []
  },
  {
   "cell_type": "code",
   "execution_count": null,
   "metadata": {},
   "outputs": [],
   "source": []
  },
  {
   "cell_type": "code",
   "execution_count": null,
   "metadata": {},
   "outputs": [],
   "source": []
  },
  {
   "cell_type": "code",
   "execution_count": null,
   "metadata": {},
   "outputs": [],
   "source": []
  },
  {
   "cell_type": "code",
   "execution_count": 61,
   "metadata": {},
   "outputs": [],
   "source": [
    "conn = sqlite3.connect('/Users/faraazqureshi/repos/DS-Unit-3-Sprint-2-SQL-and-Databases/module1-introduction-to-sql/buddymove_holidayiq.csv')"
   ]
  },
  {
   "cell_type": "code",
   "execution_count": 62,
   "metadata": {},
   "outputs": [],
   "source": [
    "curs = connection.cursor()"
   ]
  },
  {
   "cell_type": "code",
   "execution_count": 63,
   "metadata": {},
   "outputs": [
    {
     "data": {
      "text/plain": [
       "sqlite3.Cursor"
      ]
     },
     "execution_count": 63,
     "metadata": {},
     "output_type": "execute_result"
    }
   ],
   "source": [
    "type(curs)"
   ]
  },
  {
   "cell_type": "code",
   "execution_count": null,
   "metadata": {},
   "outputs": [],
   "source": [
    "query = "
   ]
  },
  {
   "cell_type": "code",
   "execution_count": null,
   "metadata": {},
   "outputs": [],
   "source": []
  },
  {
   "cell_type": "code",
   "execution_count": 50,
   "metadata": {},
   "outputs": [],
   "source": [
    "connection = conn = sqlite3.connect('/Users/faraazqureshi/repos/DS-Unit-3-Sprint-2-SQL-and-Databases/module1-introduction-to-sql/buddymove_holidayiq.sqlite3')"
   ]
  },
  {
   "cell_type": "code",
   "execution_count": null,
   "metadata": {},
   "outputs": [],
   "source": []
  }
 ],
 "metadata": {
  "kernelspec": {
   "display_name": "Python 3",
   "language": "python",
   "name": "python3"
  },
  "language_info": {
   "codemirror_mode": {
    "name": "ipython",
    "version": 3
   },
   "file_extension": ".py",
   "mimetype": "text/x-python",
   "name": "python",
   "nbconvert_exporter": "python",
   "pygments_lexer": "ipython3",
   "version": "3.7.4"
  }
 },
 "nbformat": 4,
 "nbformat_minor": 2
}
